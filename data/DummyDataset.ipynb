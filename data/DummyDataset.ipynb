{
 "cells": [
  {
   "cell_type": "code",
   "execution_count": 1,
   "metadata": {},
   "outputs": [],
   "source": [
    "import pandas as pd"
   ]
  },
  {
   "cell_type": "markdown",
   "metadata": {},
   "source": [
    "# Creating dataset for use in ontology\n",
    "\n",
    "There are some steps we need to take to do this:\n",
    "- Load all the separate files into pandas dataframes\n",
    "- Combine them using appropriate join functions\n",
    "- Remove the columns we aren't using (and duplicates)"
   ]
  },
  {
   "cell_type": "code",
   "execution_count": 2,
   "metadata": {},
   "outputs": [
    {
     "name": "stderr",
     "output_type": "stream",
     "text": [
      "C:\\Users\\Kaixuan Khoo\\AppData\\Local\\Temp\\ipykernel_7980\\4134802303.py:2: DtypeWarning: Columns (5,6,8,9,17,18,20,22,24,26) have mixed types. Specify dtype option on import or set low_memory=False.\n",
      "  av_tumour = pd.read_csv('simulacrum/data/sim_av_tumour.csv')\n",
      "C:\\Users\\Kaixuan Khoo\\AppData\\Local\\Temp\\ipykernel_7980\\4134802303.py:7: DtypeWarning: Columns (5) have mixed types. Specify dtype option on import or set low_memory=False.\n",
      "  sact_cycle = pd.read_csv('simulacrum/data/sim_sact_cycle.csv')\n"
     ]
    }
   ],
   "source": [
    "# Takes 20 seconds \n",
    "av_tumour = pd.read_csv('simulacrum/data/sim_av_tumour.csv')\n",
    "av_patient = pd.read_csv('simulacrum/data/sim_av_patient.csv')\n",
    "sact_tumour = pd.read_csv('simulacrum/data/sim_sact_tumour.csv')\n",
    "sact_patient = pd.read_csv('simulacrum/data/sim_sact_patient.csv')\n",
    "sact_regimen = pd.read_csv('simulacrum/data/sim_sact_regimen.csv')\n",
    "sact_cycle = pd.read_csv('simulacrum/data/sim_sact_cycle.csv')\n",
    "sact_drug = pd.read_csv('simulacrum/data/sim_sact_drug_detail.csv')\n",
    "sact_outcome = pd.read_csv('simulacrum/data/sim_sact_outcome.csv')"
   ]
  },
  {
   "cell_type": "code",
   "execution_count": 3,
   "metadata": {},
   "outputs": [],
   "source": [
    "df = av_tumour\n",
    "df = pd.merge(df, av_patient, on='PATIENTID', suffixes=('', '_y'))\n",
    "df = pd.merge(df, sact_patient, left_on='LINKNUMBER', right_on='LINK_NUMBER')\n",
    "df = pd.merge(df, sact_tumour, on='MERGED_PATIENT_ID')\n",
    "df = pd.merge(df, sact_regimen, on='MERGED_TUMOUR_ID', suffixes=('', '_y'))\n",
    "df.drop(df.filter(regex='_y$').columns, axis=1, inplace=True)"
   ]
  },
  {
   "cell_type": "code",
   "execution_count": 4,
   "metadata": {},
   "outputs": [
    {
     "data": {
      "text/plain": [
       "Index(['TUMOURID', 'PATIENTID', 'DIAGNOSISDATEBEST', 'SITE_ICD10_O2',\n",
       "       'SITE_ICD10_O2_3CHAR', 'MORPH_ICD10_O2', 'BEHAVIOUR_ICD10_O2', 'T_BEST',\n",
       "       'N_BEST', 'M_BEST', 'STAGE_BEST', 'STAGE_BEST_SYSTEM', 'GRADE', 'AGE',\n",
       "       'SEX', 'CREG_CODE', 'LINKNUMBER', 'SCREENINGSTATUSFULL_CODE',\n",
       "       'ER_STATUS', 'ER_SCORE', 'PR_STATUS', 'PR_SCORE', 'HER2_STATUS',\n",
       "       'CANCERCAREPLANINTENT', 'PERFORMANCESTATUS', 'CNS', 'ACE27',\n",
       "       'GLEASON_PRIMARY', 'GLEASON_SECONDARY', 'GLEASON_TERTIARY',\n",
       "       'GLEASON_COMBINED', 'DATE_FIRST_SURGERY', 'LATERALITY', 'QUINTILE_2015',\n",
       "       'ETHNICITY', 'DEATHCAUSECODE_1A', 'DEATHCAUSECODE_1B',\n",
       "       'DEATHCAUSECODE_1C', 'DEATHCAUSECODE_2', 'DEATHCAUSECODE_UNDERLYING',\n",
       "       'DEATHLOCATIONCODE', 'NEWVITALSTATUS', 'VITALSTATUSDATE',\n",
       "       'MERGED_PATIENT_ID', 'LINK_NUMBER', 'MERGED_TUMOUR_ID',\n",
       "       'CONSULTANT_SPECIALITY_CODE', 'PRIMARY_DIAGNOSIS', 'MORPHOLOGY_CLEAN',\n",
       "       'MERGED_REGIMEN_ID', 'HEIGHT_AT_START_OF_REGIMEN',\n",
       "       'WEIGHT_AT_START_OF_REGIMEN', 'INTENT_OF_TREATMENT',\n",
       "       'DATE_DECISION_TO_TREAT', 'START_DATE_OF_REGIMEN', 'MAPPED_REGIMEN',\n",
       "       'CLINICAL_TRIAL', 'CHEMO_RADIATION', 'BENCHMARK_GROUP'],\n",
       "      dtype='object')"
      ]
     },
     "execution_count": 4,
     "metadata": {},
     "output_type": "execute_result"
    }
   ],
   "source": [
    "# Printing all the columns\n",
    "df.columns"
   ]
  },
  {
   "cell_type": "code",
   "execution_count": null,
   "metadata": {},
   "outputs": [],
   "source": [
    "# drop the columns not needed here?"
   ]
  },
  {
   "cell_type": "code",
   "execution_count": 5,
   "metadata": {},
   "outputs": [],
   "source": [
    "df[0:20].to_csv('m2dummy_small.csv')"
   ]
  },
  {
   "cell_type": "code",
   "execution_count": 6,
   "metadata": {},
   "outputs": [],
   "source": [
    "df[0:200].to_csv('m2dummy_med.csv')"
   ]
  },
  {
   "cell_type": "code",
   "execution_count": 7,
   "metadata": {},
   "outputs": [],
   "source": [
    "df.to_csv('m2dummy_full.csv')"
   ]
  },
  {
   "cell_type": "code",
   "execution_count": null,
   "metadata": {},
   "outputs": [],
   "source": []
  }
 ],
 "metadata": {
  "kernelspec": {
   "display_name": "Python 3.8.0 64-bit",
   "language": "python",
   "name": "python3"
  },
  "language_info": {
   "codemirror_mode": {
    "name": "ipython",
    "version": 3
   },
   "file_extension": ".py",
   "mimetype": "text/x-python",
   "name": "python",
   "nbconvert_exporter": "python",
   "pygments_lexer": "ipython3",
   "version": "3.8.0"
  },
  "orig_nbformat": 4,
  "vscode": {
   "interpreter": {
    "hash": "ff51508655712acb10c1209fd6267f6a91713f2d0464b4dc4d47b53cd2e84d52"
   }
  }
 },
 "nbformat": 4,
 "nbformat_minor": 2
}
