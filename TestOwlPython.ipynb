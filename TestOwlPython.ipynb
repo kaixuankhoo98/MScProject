{
 "cells": [
  {
   "cell_type": "code",
   "execution_count": 15,
   "metadata": {},
   "outputs": [],
   "source": [
    "from owlready2 import *\n",
    "import pandas as pd"
   ]
  },
  {
   "cell_type": "code",
   "execution_count": 2,
   "metadata": {},
   "outputs": [],
   "source": [
    "onto = get_ontology(\"BreastCancerTreatments.owl\").load()"
   ]
  },
  {
   "cell_type": "code",
   "execution_count": 3,
   "metadata": {},
   "outputs": [
    {
     "name": "stdout",
     "output_type": "stream",
     "text": [
      "get_ontology(\"http://www.semanticweb.org/kaixuankhoo/ontologies/2022/6/BreastCancerOntology#\")\n"
     ]
    }
   ],
   "source": [
    "print(onto)"
   ]
  },
  {
   "cell_type": "code",
   "execution_count": 4,
   "metadata": {},
   "outputs": [
    {
     "name": "stderr",
     "output_type": "stream",
     "text": [
      "* Owlready2 * Running Pellet...\n",
      "    java -Xmx2000M -cp c:\\Users\\Kaixuan Khoo\\AppData\\Local\\Programs\\Python\\Python38\\lib\\site-packages\\owlready2\\pellet\\antlr-3.2.jar;c:\\Users\\Kaixuan Khoo\\AppData\\Local\\Programs\\Python\\Python38\\lib\\site-packages\\owlready2\\pellet\\antlr-runtime-3.2.jar;c:\\Users\\Kaixuan Khoo\\AppData\\Local\\Programs\\Python\\Python38\\lib\\site-packages\\owlready2\\pellet\\aterm-java-1.6.jar;c:\\Users\\Kaixuan Khoo\\AppData\\Local\\Programs\\Python\\Python38\\lib\\site-packages\\owlready2\\pellet\\commons-codec-1.6.jar;c:\\Users\\Kaixuan Khoo\\AppData\\Local\\Programs\\Python\\Python38\\lib\\site-packages\\owlready2\\pellet\\httpclient-4.2.3.jar;c:\\Users\\Kaixuan Khoo\\AppData\\Local\\Programs\\Python\\Python38\\lib\\site-packages\\owlready2\\pellet\\httpcore-4.2.2.jar;c:\\Users\\Kaixuan Khoo\\AppData\\Local\\Programs\\Python\\Python38\\lib\\site-packages\\owlready2\\pellet\\jcl-over-slf4j-1.6.4.jar;c:\\Users\\Kaixuan Khoo\\AppData\\Local\\Programs\\Python\\Python38\\lib\\site-packages\\owlready2\\pellet\\jena-arq-2.10.0.jar;c:\\Users\\Kaixuan Khoo\\AppData\\Local\\Programs\\Python\\Python38\\lib\\site-packages\\owlready2\\pellet\\jena-core-2.10.0.jar;c:\\Users\\Kaixuan Khoo\\AppData\\Local\\Programs\\Python\\Python38\\lib\\site-packages\\owlready2\\pellet\\jena-iri-0.9.5.jar;c:\\Users\\Kaixuan Khoo\\AppData\\Local\\Programs\\Python\\Python38\\lib\\site-packages\\owlready2\\pellet\\jena-tdb-0.10.0.jar;c:\\Users\\Kaixuan Khoo\\AppData\\Local\\Programs\\Python\\Python38\\lib\\site-packages\\owlready2\\pellet\\jgrapht-jdk1.5.jar;c:\\Users\\Kaixuan Khoo\\AppData\\Local\\Programs\\Python\\Python38\\lib\\site-packages\\owlready2\\pellet\\log4j-1.2.16.jar;c:\\Users\\Kaixuan Khoo\\AppData\\Local\\Programs\\Python\\Python38\\lib\\site-packages\\owlready2\\pellet\\owlapi-distribution-3.4.3-bin.jar;c:\\Users\\Kaixuan Khoo\\AppData\\Local\\Programs\\Python\\Python38\\lib\\site-packages\\owlready2\\pellet\\pellet-2.3.1.jar;c:\\Users\\Kaixuan Khoo\\AppData\\Local\\Programs\\Python\\Python38\\lib\\site-packages\\owlready2\\pellet\\slf4j-api-1.6.4.jar;c:\\Users\\Kaixuan Khoo\\AppData\\Local\\Programs\\Python\\Python38\\lib\\site-packages\\owlready2\\pellet\\slf4j-log4j12-1.6.4.jar;c:\\Users\\Kaixuan Khoo\\AppData\\Local\\Programs\\Python\\Python38\\lib\\site-packages\\owlready2\\pellet\\xercesImpl-2.10.0.jar;c:\\Users\\Kaixuan Khoo\\AppData\\Local\\Programs\\Python\\Python38\\lib\\site-packages\\owlready2\\pellet\\xml-apis-1.4.01.jar pellet.Pellet realize --loader Jena --input-format N-Triples --ignore-imports C:\\Users\\Kaixuan Khoo\\AppData\\Local\\Temp\\tmp7_4uf1hz\n",
      "* Owlready2 * Pellet took 3.7163517475128174 seconds\n",
      "* Owlready * (NB: only changes on entities loaded in Python are shown, other changes are done but not listed)\n"
     ]
    }
   ],
   "source": [
    "sync_reasoner_pellet()"
   ]
  },
  {
   "cell_type": "code",
   "execution_count": 5,
   "metadata": {},
   "outputs": [
    {
     "name": "stdout",
     "output_type": "stream",
     "text": [
      "owl.Thing\n"
     ]
    }
   ],
   "source": [
    "print(Thing)"
   ]
  },
  {
   "cell_type": "code",
   "execution_count": 6,
   "metadata": {},
   "outputs": [
    {
     "name": "stdout",
     "output_type": "stream",
     "text": [
      "[10262332]\n"
     ]
    }
   ],
   "source": [
    "# print(onto)\n",
    "print(onto.Patient1.PatientID)"
   ]
  },
  {
   "cell_type": "markdown",
   "metadata": {},
   "source": [
    "## Playing around with Querying"
   ]
  },
  {
   "cell_type": "code",
   "execution_count": 7,
   "metadata": {},
   "outputs": [
    {
     "data": {
      "text/plain": [
       "[BreastCancerTreatments.CyclophosphamideREF, BreastCancerTreatments.CapecitabineREF, BreastCancerTreatments.CarboplatinREF, BreastCancerTreatments.DocetaxelREF, BreastCancerTreatments.EpirubicinREF, BreastCancerTreatments.Fluorouracil5REF, BreastCancerTreatments.InfusionREF, BreastCancerTreatments.IntramuscularREF, BreastCancerTreatments.IntravenousREF, BreastCancerTreatments.PaclitaxelREF, BreastCancerTreatments.PertuzumabREF, BreastCancerTreatments.SubcutaneousREF, BreastCancerTreatments.TrastuzumabREF]"
      ]
     },
     "execution_count": 7,
     "metadata": {},
     "output_type": "execute_result"
    }
   ],
   "source": [
    "## searching using IRI name\n",
    "onto.search(iri = \"*REF\")"
   ]
  },
  {
   "cell_type": "code",
   "execution_count": 8,
   "metadata": {},
   "outputs": [
    {
     "data": {
      "text/plain": [
       "[BreastCancerTreatments.Patient1]"
      ]
     },
     "execution_count": 8,
     "metadata": {},
     "output_type": "execute_result"
    }
   ],
   "source": [
    "## searching relationships using object properties\n",
    "onto.search(has_tumour = \"*\")"
   ]
  },
  {
   "cell_type": "code",
   "execution_count": 9,
   "metadata": {},
   "outputs": [
    {
     "data": {
      "text/plain": [
       "[BreastCancerTreatments.Drug_reference, BreastCancerTreatments.AlkylatingAgent, BreastCancerTreatments.Anthracycline, BreastCancerTreatments.AntiMetabolite, BreastCancerTreatments.Taxane, BreastCancerTreatments.HER2Targeted, BreastCancerTreatments.PlatinumBased, BreastCancerTreatments.NitrogenMustardBased, BreastCancerTreatments.Epirubicin, BreastCancerTreatments.Capecitabine, BreastCancerTreatments.FU, BreastCancerTreatments.Docetaxel, BreastCancerTreatments.Paclitaxel, BreastCancerTreatments.Pertuzumab, BreastCancerTreatments.Trastuzumab, BreastCancerTreatments.Carboplatin, BreastCancerTreatments.Cyclophosphamide]"
      ]
     },
     "execution_count": 9,
     "metadata": {},
     "output_type": "execute_result"
    }
   ],
   "source": [
    "## searching subclass of something\n",
    "onto.search(subclass_of = onto.Drug_reference)"
   ]
  },
  {
   "cell_type": "markdown",
   "metadata": {},
   "source": [
    "## Tests for creating individuals \n",
    "These individuals will then go into the ABox for reasoning"
   ]
  },
  {
   "cell_type": "code",
   "execution_count": 10,
   "metadata": {},
   "outputs": [],
   "source": [
    "my_drug = onto.Drug(\"my_drug\", Dose = [100], has_drug_reference = [onto.CyclophosphamideREF])\n",
    "my_drug.Dose = [200] ## reassigning datapoint\n",
    "my_drug.has_drug_reference = [onto.Fluorouracil5REF] ## reassigning relationship property"
   ]
  },
  {
   "cell_type": "code",
   "execution_count": 11,
   "metadata": {},
   "outputs": [
    {
     "name": "stdout",
     "output_type": "stream",
     "text": [
      "[BreastCancerTreatments.Fluorouracil5REF]\n"
     ]
    }
   ],
   "source": [
    "print(my_drug.has_drug_reference)"
   ]
  },
  {
   "cell_type": "code",
   "execution_count": 12,
   "metadata": {},
   "outputs": [
    {
     "name": "stdout",
     "output_type": "stream",
     "text": [
      ".Dose == 200\n",
      ".has_drug_reference == BreastCancerTreatments.Fluorouracil5REF\n"
     ]
    }
   ],
   "source": [
    "## For printing the properties of a drug\n",
    "for property in my_drug.get_properties():\n",
    "    for value in property[my_drug]:\n",
    "        print(\".%s == %s\" % (property.python_name, value))"
   ]
  },
  {
   "cell_type": "code",
   "execution_count": 13,
   "metadata": {},
   "outputs": [
    {
     "name": "stdout",
     "output_type": "stream",
     "text": [
      "BreastCancerTreatments.CapecitabineREF\n",
      "BreastCancerTreatments.CarboplatinREF\n",
      "BreastCancerTreatments.CyclophosphamideREF\n",
      "BreastCancerTreatments.DocetaxelREF\n",
      "BreastCancerTreatments.EpirubicinREF\n",
      "BreastCancerTreatments.Fluorouracil5REF\n",
      "BreastCancerTreatments.PaclitaxelREF\n",
      "BreastCancerTreatments.PertuzumabREF\n",
      "BreastCancerTreatments.TrastuzumabREF\n"
     ]
    }
   ],
   "source": [
    "for i in onto.Drug_reference.instances():\n",
    "    print(i)"
   ]
  },
  {
   "cell_type": "code",
   "execution_count": 14,
   "metadata": {},
   "outputs": [
    {
     "name": "stdout",
     "output_type": "stream",
     "text": [
      "[BreastCancerTreatments.Regimen]\n",
      "[BreastCancerTreatments.Tumour]\n"
     ]
    }
   ],
   "source": [
    "## Printing domain and range\n",
    "print(onto.treats.domain)\n",
    "print(onto.treats.range)"
   ]
  },
  {
   "cell_type": "markdown",
   "metadata": {},
   "source": [
    "## Trying to import data and mapping into the ontology\n",
    "Using a dummy dataset imported into pandas"
   ]
  },
  {
   "cell_type": "code",
   "execution_count": 16,
   "metadata": {},
   "outputs": [],
   "source": [
    "df = pd.read_csv('data/dummy_breast.csv')"
   ]
  },
  {
   "cell_type": "code",
   "execution_count": 57,
   "metadata": {},
   "outputs": [],
   "source": [
    "destroy_entity(onto.trial1)"
   ]
  },
  {
   "cell_type": "code",
   "execution_count": 59,
   "metadata": {},
   "outputs": [
    {
     "name": "stdout",
     "output_type": "stream",
     "text": [
      "[10231909]\n",
      "[10000032]\n",
      "[10000046]\n"
     ]
    }
   ],
   "source": [
    "## Trial creating a new individual\n",
    "test_row = df.head(1)\n",
    "type(test_row['MERGED_TUMOUR_ID'][0].item())\n",
    "trial_patient = onto.Patient(\"trialP\", PatientID = [test_row['MERGED_PATIENT_ID_x'][0].item()])\n",
    "print(trial_patient.PatientID)\n",
    "trial_tumour = onto.Tumour(\"trialT\", TumourID = [test_row['MERGED_TUMOUR_ID'][0].item()])\n",
    "print(trial_tumour.TumourID)\n",
    "trial_regimen = onto.Regimen(\"trialR\", RegimenID = [test_row['MERGED_REGIMEN_ID'][0].item()])\n",
    "print(trial_regimen.RegimenID)"
   ]
  },
  {
   "cell_type": "code",
   "execution_count": 27,
   "metadata": {},
   "outputs": [
    {
     "name": "stdout",
     "output_type": "stream",
     "text": [
      "10000046 10000032 10231909 C509 Capecitabine\n",
      "10000047 10000032 10231909 C509 Carboplatin + Etoposide IV 3 day\n",
      "10000364 10000241 10271562 C509 Capecitabine\n",
      "10000643 10000428 10288769 C509 Capecitabine + Oxaliplatin 21day\n",
      "10000693 10000460 10290756 C509 Capecitabine\n",
      "10000694 10000460 10290756 C509 CHOP R\n",
      "10001010 10000662 10307019 C509 Capecitabine\n",
      "10001054 10000696 10309417 C509 Capecitabine\n",
      "10001055 10000696 10309417 C509 CHOP R\n",
      "10001212 10000797 10343133 C509 Capecitabine\n",
      "10001258 10000832 10346241 C509 FEC 100\n",
      "10001301 10000855 10349302 C509 FEC 60 or 75\n",
      "10001306 10000859 10349584 C509 FEC 100\n",
      "10001326 10000873 10350855 C509 FEC\n",
      "10001336 10000882 10351591 C509 FEC 100\n",
      "10001337 10000882 10351591 C509 Carboplatin AUC 6 - 10\n",
      "10001341 10000883 10351982 C509 FEC 100\n",
      "10001357 10000895 10353081 C509 Docetaxel 75mg/m2 (21 day)\n",
      "10001361 10005948 10353654 C509 FEC 100\n",
      "10001365 10000900 10353965 C509 FEC 100\n"
     ]
    }
   ],
   "source": [
    "## trying to import them in a for loop; this may be a slow way to do it...\n",
    "#TODO: Add DOB, find a way to map text to the drug instance ... ???\n",
    "\n",
    "for index, row in df.iterrows():\n",
    "    print(row['MERGED_REGIMEN_ID'], row['MERGED_TUMOUR_ID'], row['MERGED_PATIENT_ID_x'], row['PRIMARY_DIAGNOSIS'], row['MAPPED_REGIMEN'])\n",
    "    # Create a new patient instance\n",
    "    # Create a new tumour instance\n",
    "    # Create new drug instances in a for loop using names\n",
    "    # Create a new regimen instance\n",
    "    # Connect them all\n",
    "\n",
    "## Print out the time taken to do all 20 of the dummy dataset\n",
    "    "
   ]
  },
  {
   "cell_type": "code",
   "execution_count": null,
   "metadata": {},
   "outputs": [],
   "source": []
  },
  {
   "cell_type": "code",
   "execution_count": null,
   "metadata": {},
   "outputs": [],
   "source": []
  }
 ],
 "metadata": {
  "interpreter": {
   "hash": "ff51508655712acb10c1209fd6267f6a91713f2d0464b4dc4d47b53cd2e84d52"
  },
  "kernelspec": {
   "display_name": "Python 3.8.0 64-bit",
   "language": "python",
   "name": "python3"
  },
  "language_info": {
   "codemirror_mode": {
    "name": "ipython",
    "version": 3
   },
   "file_extension": ".py",
   "mimetype": "text/x-python",
   "name": "python",
   "nbconvert_exporter": "python",
   "pygments_lexer": "ipython3",
   "version": "3.8.0"
  },
  "orig_nbformat": 4
 },
 "nbformat": 4,
 "nbformat_minor": 2
}
