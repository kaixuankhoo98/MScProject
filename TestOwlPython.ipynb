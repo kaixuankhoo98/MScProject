{
 "cells": [
  {
   "cell_type": "code",
   "execution_count": 1,
   "metadata": {},
   "outputs": [],
   "source": [
    "from owlready2 import *\n",
    "import pandas as pd\n",
    "import datetime"
   ]
  },
  {
   "cell_type": "code",
   "execution_count": 2,
   "metadata": {},
   "outputs": [],
   "source": [
    "onto = get_ontology(\"BreastCancerTreatments.owl\").load()"
   ]
  },
  {
   "cell_type": "code",
   "execution_count": 3,
   "metadata": {},
   "outputs": [
    {
     "name": "stdout",
     "output_type": "stream",
     "text": [
      "get_ontology(\"http://www.semanticweb.org/kaixuankhoo/ontologies/2022/6/BreastCancerOntology#\")\n"
     ]
    }
   ],
   "source": [
    "print(onto)"
   ]
  },
  {
   "cell_type": "code",
   "execution_count": 4,
   "metadata": {},
   "outputs": [
    {
     "name": "stderr",
     "output_type": "stream",
     "text": [
      "* Owlready2 * Running Pellet...\n",
      "    java -Xmx2000M -cp c:\\Users\\Kaixuan Khoo\\AppData\\Local\\Programs\\Python\\Python38\\lib\\site-packages\\owlready2\\pellet\\antlr-3.2.jar;c:\\Users\\Kaixuan Khoo\\AppData\\Local\\Programs\\Python\\Python38\\lib\\site-packages\\owlready2\\pellet\\antlr-runtime-3.2.jar;c:\\Users\\Kaixuan Khoo\\AppData\\Local\\Programs\\Python\\Python38\\lib\\site-packages\\owlready2\\pellet\\aterm-java-1.6.jar;c:\\Users\\Kaixuan Khoo\\AppData\\Local\\Programs\\Python\\Python38\\lib\\site-packages\\owlready2\\pellet\\commons-codec-1.6.jar;c:\\Users\\Kaixuan Khoo\\AppData\\Local\\Programs\\Python\\Python38\\lib\\site-packages\\owlready2\\pellet\\httpclient-4.2.3.jar;c:\\Users\\Kaixuan Khoo\\AppData\\Local\\Programs\\Python\\Python38\\lib\\site-packages\\owlready2\\pellet\\httpcore-4.2.2.jar;c:\\Users\\Kaixuan Khoo\\AppData\\Local\\Programs\\Python\\Python38\\lib\\site-packages\\owlready2\\pellet\\jcl-over-slf4j-1.6.4.jar;c:\\Users\\Kaixuan Khoo\\AppData\\Local\\Programs\\Python\\Python38\\lib\\site-packages\\owlready2\\pellet\\jena-arq-2.10.0.jar;c:\\Users\\Kaixuan Khoo\\AppData\\Local\\Programs\\Python\\Python38\\lib\\site-packages\\owlready2\\pellet\\jena-core-2.10.0.jar;c:\\Users\\Kaixuan Khoo\\AppData\\Local\\Programs\\Python\\Python38\\lib\\site-packages\\owlready2\\pellet\\jena-iri-0.9.5.jar;c:\\Users\\Kaixuan Khoo\\AppData\\Local\\Programs\\Python\\Python38\\lib\\site-packages\\owlready2\\pellet\\jena-tdb-0.10.0.jar;c:\\Users\\Kaixuan Khoo\\AppData\\Local\\Programs\\Python\\Python38\\lib\\site-packages\\owlready2\\pellet\\jgrapht-jdk1.5.jar;c:\\Users\\Kaixuan Khoo\\AppData\\Local\\Programs\\Python\\Python38\\lib\\site-packages\\owlready2\\pellet\\log4j-1.2.16.jar;c:\\Users\\Kaixuan Khoo\\AppData\\Local\\Programs\\Python\\Python38\\lib\\site-packages\\owlready2\\pellet\\owlapi-distribution-3.4.3-bin.jar;c:\\Users\\Kaixuan Khoo\\AppData\\Local\\Programs\\Python\\Python38\\lib\\site-packages\\owlready2\\pellet\\pellet-2.3.1.jar;c:\\Users\\Kaixuan Khoo\\AppData\\Local\\Programs\\Python\\Python38\\lib\\site-packages\\owlready2\\pellet\\slf4j-api-1.6.4.jar;c:\\Users\\Kaixuan Khoo\\AppData\\Local\\Programs\\Python\\Python38\\lib\\site-packages\\owlready2\\pellet\\slf4j-log4j12-1.6.4.jar;c:\\Users\\Kaixuan Khoo\\AppData\\Local\\Programs\\Python\\Python38\\lib\\site-packages\\owlready2\\pellet\\xercesImpl-2.10.0.jar;c:\\Users\\Kaixuan Khoo\\AppData\\Local\\Programs\\Python\\Python38\\lib\\site-packages\\owlready2\\pellet\\xml-apis-1.4.01.jar pellet.Pellet realize --loader Jena --input-format N-Triples --ignore-imports C:\\Users\\Kaixuan Khoo\\AppData\\Local\\Temp\\tmpm062ofz3\n",
      "* Owlready2 * Pellet took 3.511002779006958 seconds\n",
      "* Owlready * (NB: only changes on entities loaded in Python are shown, other changes are done but not listed)\n"
     ]
    }
   ],
   "source": [
    "sync_reasoner_pellet()"
   ]
  },
  {
   "cell_type": "code",
   "execution_count": 5,
   "metadata": {},
   "outputs": [
    {
     "name": "stdout",
     "output_type": "stream",
     "text": [
      "owl.Thing\n"
     ]
    }
   ],
   "source": [
    "print(Thing)"
   ]
  },
  {
   "cell_type": "code",
   "execution_count": 6,
   "metadata": {},
   "outputs": [
    {
     "name": "stdout",
     "output_type": "stream",
     "text": [
      "[10262332]\n"
     ]
    }
   ],
   "source": [
    "# print(onto)\n",
    "print(onto.Patient1.PatientID)"
   ]
  },
  {
   "cell_type": "markdown",
   "metadata": {},
   "source": [
    "## Playing around with Querying"
   ]
  },
  {
   "cell_type": "code",
   "execution_count": 8,
   "metadata": {},
   "outputs": [
    {
     "data": {
      "text/plain": [
       "[BreastCancerTreatments.CyclophosphamideREF, BreastCancerTreatments.CapecitabineREF, BreastCancerTreatments.CarboplatinREF, BreastCancerTreatments.DocetaxelREF, BreastCancerTreatments.EpirubicinREF, BreastCancerTreatments.Fluorouracil5REF, BreastCancerTreatments.InfusionREF, BreastCancerTreatments.IntramuscularREF, BreastCancerTreatments.IntravenousREF, BreastCancerTreatments.PaclitaxelREF, BreastCancerTreatments.PertuzumabREF, BreastCancerTreatments.SubcutaneousREF, BreastCancerTreatments.TrastuzumabREF]"
      ]
     },
     "execution_count": 8,
     "metadata": {},
     "output_type": "execute_result"
    }
   ],
   "source": [
    "## searching using IRI name\n",
    "onto.search(iri = \"*REF\")"
   ]
  },
  {
   "cell_type": "code",
   "execution_count": 9,
   "metadata": {},
   "outputs": [
    {
     "data": {
      "text/plain": [
       "[BreastCancerTreatments.Patient1]"
      ]
     },
     "execution_count": 9,
     "metadata": {},
     "output_type": "execute_result"
    }
   ],
   "source": [
    "## searching relationships using object properties\n",
    "onto.search(has_tumour = \"*\")"
   ]
  },
  {
   "cell_type": "code",
   "execution_count": 10,
   "metadata": {},
   "outputs": [
    {
     "data": {
      "text/plain": [
       "[BreastCancerTreatments.Drug_reference, BreastCancerTreatments.AlkylatingAgent, BreastCancerTreatments.Anthracycline, BreastCancerTreatments.AntiMetabolite, BreastCancerTreatments.Taxane, BreastCancerTreatments.HER2Targeted, BreastCancerTreatments.PlatinumBased, BreastCancerTreatments.NitrogenMustardBased, BreastCancerTreatments.Epirubicin, BreastCancerTreatments.Capecitabine, BreastCancerTreatments.FU, BreastCancerTreatments.Docetaxel, BreastCancerTreatments.Paclitaxel, BreastCancerTreatments.Pertuzumab, BreastCancerTreatments.Trastuzumab, BreastCancerTreatments.Carboplatin, BreastCancerTreatments.Cyclophosphamide]"
      ]
     },
     "execution_count": 10,
     "metadata": {},
     "output_type": "execute_result"
    }
   ],
   "source": [
    "## searching subclass of something\n",
    "onto.search(subclass_of = onto.Drug_reference)"
   ]
  },
  {
   "cell_type": "markdown",
   "metadata": {},
   "source": [
    "## Tests for creating individuals \n",
    "These individuals will then go into the ABox for reasoning"
   ]
  },
  {
   "cell_type": "code",
   "execution_count": 11,
   "metadata": {},
   "outputs": [],
   "source": [
    "my_drug = onto.Drug(\"my_drug\", Dose = [100], has_drug_reference = [onto.CyclophosphamideREF])\n",
    "my_drug.Dose = [200] ## reassigning datapoint\n",
    "my_drug.has_drug_reference = [onto.Fluorouracil5REF] ## reassigning relationship property"
   ]
  },
  {
   "cell_type": "code",
   "execution_count": 12,
   "metadata": {},
   "outputs": [
    {
     "name": "stdout",
     "output_type": "stream",
     "text": [
      "[BreastCancerTreatments.Fluorouracil5REF]\n"
     ]
    }
   ],
   "source": [
    "print(my_drug.has_drug_reference)"
   ]
  },
  {
   "cell_type": "code",
   "execution_count": 13,
   "metadata": {},
   "outputs": [
    {
     "name": "stdout",
     "output_type": "stream",
     "text": [
      ".Dose == 200\n",
      ".has_drug_reference == BreastCancerTreatments.Fluorouracil5REF\n"
     ]
    }
   ],
   "source": [
    "## For printing the properties of a drug\n",
    "for property in my_drug.get_properties():\n",
    "    for value in property[my_drug]:\n",
    "        print(\".%s == %s\" % (property.python_name, value))"
   ]
  },
  {
   "cell_type": "code",
   "execution_count": 14,
   "metadata": {},
   "outputs": [
    {
     "name": "stdout",
     "output_type": "stream",
     "text": [
      "BreastCancerTreatments.CapecitabineREF\n",
      "BreastCancerTreatments.CarboplatinREF\n",
      "BreastCancerTreatments.CyclophosphamideREF\n",
      "BreastCancerTreatments.DocetaxelREF\n",
      "BreastCancerTreatments.EpirubicinREF\n",
      "BreastCancerTreatments.Fluorouracil5REF\n",
      "BreastCancerTreatments.PaclitaxelREF\n",
      "BreastCancerTreatments.PertuzumabREF\n",
      "BreastCancerTreatments.TrastuzumabREF\n"
     ]
    }
   ],
   "source": [
    "for i in onto.Drug_reference.instances():\n",
    "    print(i)"
   ]
  },
  {
   "cell_type": "code",
   "execution_count": 15,
   "metadata": {},
   "outputs": [
    {
     "name": "stdout",
     "output_type": "stream",
     "text": [
      "[BreastCancerTreatments.Regimen]\n",
      "[BreastCancerTreatments.Tumour]\n"
     ]
    }
   ],
   "source": [
    "## Printing domain and range\n",
    "print(onto.treats.domain)\n",
    "print(onto.treats.range)"
   ]
  },
  {
   "cell_type": "markdown",
   "metadata": {},
   "source": [
    "## Trying to import data and mapping into the ontology\n",
    "Using a dummy dataset imported into pandas"
   ]
  },
  {
   "cell_type": "code",
   "execution_count": 7,
   "metadata": {},
   "outputs": [],
   "source": [
    "df = pd.read_csv('data/dummy_breast_with_age.csv')"
   ]
  },
  {
   "cell_type": "code",
   "execution_count": 16,
   "metadata": {},
   "outputs": [],
   "source": []
  },
  {
   "cell_type": "code",
   "execution_count": 39,
   "metadata": {},
   "outputs": [
    {
     "name": "stdout",
     "output_type": "stream",
     "text": [
      "[10231909] [datetime.date(1957, 1, 1)]\n",
      "[10000032]\n",
      "[10000046]\n"
     ]
    }
   ],
   "source": [
    "## Trial creating a new individual\n",
    "test_row = df.head(1)\n",
    "# type(test_row['MERGED_TUMOUR_ID'][0].item())\n",
    "datetime.date.today()\n",
    "trial_patient = onto.Patient(\"trialP\", PatientID = [test_row['MERGED_PATIENT_ID_x'][0].item()], DateOfBirth = [datetime.date(2022-test_row['AGE'][0].item(),1,1)])\n",
    "print(trial_patient.PatientID, trial_patient.DateOfBirth)\n",
    "trial_tumour = onto.Tumour(\"trialT\", TumourID = [test_row['MERGED_TUMOUR_ID'][0].item()])\n",
    "print(trial_tumour.TumourID)\n",
    "trial_regimen = onto.Regimen(\"trialR\", RegimenID = [test_row['MERGED_REGIMEN_ID'][0].item()])\n",
    "print(trial_regimen.RegimenID)"
   ]
  },
  {
   "cell_type": "code",
   "execution_count": 9,
   "metadata": {},
   "outputs": [],
   "source": [
    "## trying to import them in a for loop; this may be a slow way to do it...\n",
    "#TODO: Add DOB, find a way to map text to the drug instance ... ???\n",
    "class Instances():\n",
    "    patients = []\n",
    "    tumours = []\n",
    "    drugs = []\n",
    "    regimens = []\n",
    "\n",
    "def create_instances(data):\n",
    "    for index, row in data.iterrows():\n",
    "        # print(row['MERGED_REGIMEN_ID'], row['MERGED_TUMOUR_ID'], row['MERGED_PATIENT_ID_x'], row['PRIMARY_DIAGNOSIS'], row['MAPPED_REGIMEN'])\n",
    "\n",
    "        # Create a new patient instance\n",
    "        today = datetime.date.today()\n",
    "        yearBorn = datetime.date(today.year-row['AGE'],1,1).year\n",
    "        thisPatient = onto.Patient(PatientID = [row['MERGED_PATIENT_ID_x']], DateOfBirth=[yearBorn])\n",
    "        Instances.patients.append(thisPatient)\n",
    "\n",
    "        # Create a new tumour instance\n",
    "        thisTumour = onto.Tumour(TumourID = [row['MERGED_TUMOUR_ID']], belongs_to_patient = [thisPatient])\n",
    "        Instances.tumours.append(thisTumour)\n",
    "\n",
    "        # Create a new regimen instance\n",
    "        thisRegimen = onto.Regimen(RegimenID = [row['MERGED_REGIMEN_ID']], treats = [thisTumour])\n",
    "        Instances.regimens.append(thisRegimen)\n",
    "\n",
    "        # Create new drug instances in a for loop using names, then all drugs part of this regimen\n",
    "        create_drug_instances(row['MAPPED_REGIMEN'], thisRegimen)\n",
    "\n",
    "        \n",
    "        # Connect them all\n",
    "\n",
    "create_instances(df)\n",
    "## Print out the time taken to do all 20 of the dummy dataset\n",
    "    "
   ]
  },
  {
   "cell_type": "code",
   "execution_count": 42,
   "metadata": {},
   "outputs": [],
   "source": [
    "## Deleting the instances\n",
    "def delete_all_instances():\n",
    "    for i in onto.Patient.instances():\n",
    "        destroy_entity(i)\n",
    "    for i in onto.Tumour.instances():\n",
    "        destroy_entity(i)\n",
    "    for i in onto.Regimen.instances():\n",
    "        destroy_entity(i)\n",
    "    for i in onto.Drug.instances():\n",
    "        destroy_entity(i)"
   ]
  },
  {
   "cell_type": "code",
   "execution_count": 43,
   "metadata": {},
   "outputs": [],
   "source": [
    "delete_all_instances()"
   ]
  },
  {
   "cell_type": "code",
   "execution_count": 8,
   "metadata": {},
   "outputs": [],
   "source": [
    "#TODO: write this function\n",
    "def create_drug_instances(string, regimen):\n",
    "    if \"capecitabine\" in string.lower():\n",
    "        Instances.drugs.append(onto.Drug(Drug_reference = [onto.CapecitabineREF], part_of_regimen = [regimen]))\n",
    "    if \"carboplatin\" in string.lower():\n",
    "        Instances.drugs.append(onto.Drug(Drug_reference = [onto.CarboplatinREF], part_of_regimen = [regimen]))\n",
    "    if \"cyclophosphamide\" in string.lower():\n",
    "        Instances.drugs.append(onto.Drug(Drug_reference = [onto.CyclophosphamideREF], part_of_regimen = [regimen]))\n",
    "    if \"docetaxel\" in string.lower():\n",
    "        Instances.drugs.append(onto.Drug(Drug_reference = [onto.DocetaxelREF], part_of_regimen = [regimen]))\n",
    "    if \"epirubicin\" in string.lower():\n",
    "        Instances.drugs.append(onto.Drug(Drug_reference = [onto.EpirubicinREF], part_of_regimen = [regimen]))\n",
    "    if \"fluorouracil\" in string.lower():\n",
    "        Instances.drugs.append(onto.Drug(Drug_reference = [onto.Fluorouracil5REF], part_of_regimen = [regimen]))\n",
    "    if \"paclitaxel\" in string.lower():\n",
    "        Instances.drugs.append(onto.Drug(Drug_reference = [onto.PaclitaxelREF], part_of_regimen = [regimen]))\n",
    "    if \"pertuzumab\" in string.lower():\n",
    "        Instances.drugs.append(onto.Drug(Drug_reference = [onto.PertuzumabREF], part_of_regimen = [regimen]))\n",
    "    if \"trastuzumab\" in string.lower():\n",
    "        Instances.drugs.append(onto.Drug(Drug_reference = [onto.TrastuzumabREF], part_of_regimen = [regimen]))"
   ]
  },
  {
   "cell_type": "code",
   "execution_count": 12,
   "metadata": {},
   "outputs": [
    {
     "name": "stderr",
     "output_type": "stream",
     "text": [
      "* Owlready2 * Running Pellet...\n",
      "    java -Xmx2000M -cp c:\\Users\\Kaixuan Khoo\\AppData\\Local\\Programs\\Python\\Python38\\lib\\site-packages\\owlready2\\pellet\\antlr-3.2.jar;c:\\Users\\Kaixuan Khoo\\AppData\\Local\\Programs\\Python\\Python38\\lib\\site-packages\\owlready2\\pellet\\antlr-runtime-3.2.jar;c:\\Users\\Kaixuan Khoo\\AppData\\Local\\Programs\\Python\\Python38\\lib\\site-packages\\owlready2\\pellet\\aterm-java-1.6.jar;c:\\Users\\Kaixuan Khoo\\AppData\\Local\\Programs\\Python\\Python38\\lib\\site-packages\\owlready2\\pellet\\commons-codec-1.6.jar;c:\\Users\\Kaixuan Khoo\\AppData\\Local\\Programs\\Python\\Python38\\lib\\site-packages\\owlready2\\pellet\\httpclient-4.2.3.jar;c:\\Users\\Kaixuan Khoo\\AppData\\Local\\Programs\\Python\\Python38\\lib\\site-packages\\owlready2\\pellet\\httpcore-4.2.2.jar;c:\\Users\\Kaixuan Khoo\\AppData\\Local\\Programs\\Python\\Python38\\lib\\site-packages\\owlready2\\pellet\\jcl-over-slf4j-1.6.4.jar;c:\\Users\\Kaixuan Khoo\\AppData\\Local\\Programs\\Python\\Python38\\lib\\site-packages\\owlready2\\pellet\\jena-arq-2.10.0.jar;c:\\Users\\Kaixuan Khoo\\AppData\\Local\\Programs\\Python\\Python38\\lib\\site-packages\\owlready2\\pellet\\jena-core-2.10.0.jar;c:\\Users\\Kaixuan Khoo\\AppData\\Local\\Programs\\Python\\Python38\\lib\\site-packages\\owlready2\\pellet\\jena-iri-0.9.5.jar;c:\\Users\\Kaixuan Khoo\\AppData\\Local\\Programs\\Python\\Python38\\lib\\site-packages\\owlready2\\pellet\\jena-tdb-0.10.0.jar;c:\\Users\\Kaixuan Khoo\\AppData\\Local\\Programs\\Python\\Python38\\lib\\site-packages\\owlready2\\pellet\\jgrapht-jdk1.5.jar;c:\\Users\\Kaixuan Khoo\\AppData\\Local\\Programs\\Python\\Python38\\lib\\site-packages\\owlready2\\pellet\\log4j-1.2.16.jar;c:\\Users\\Kaixuan Khoo\\AppData\\Local\\Programs\\Python\\Python38\\lib\\site-packages\\owlready2\\pellet\\owlapi-distribution-3.4.3-bin.jar;c:\\Users\\Kaixuan Khoo\\AppData\\Local\\Programs\\Python\\Python38\\lib\\site-packages\\owlready2\\pellet\\pellet-2.3.1.jar;c:\\Users\\Kaixuan Khoo\\AppData\\Local\\Programs\\Python\\Python38\\lib\\site-packages\\owlready2\\pellet\\slf4j-api-1.6.4.jar;c:\\Users\\Kaixuan Khoo\\AppData\\Local\\Programs\\Python\\Python38\\lib\\site-packages\\owlready2\\pellet\\slf4j-log4j12-1.6.4.jar;c:\\Users\\Kaixuan Khoo\\AppData\\Local\\Programs\\Python\\Python38\\lib\\site-packages\\owlready2\\pellet\\xercesImpl-2.10.0.jar;c:\\Users\\Kaixuan Khoo\\AppData\\Local\\Programs\\Python\\Python38\\lib\\site-packages\\owlready2\\pellet\\xml-apis-1.4.01.jar pellet.Pellet realize --loader Jena --input-format N-Triples --ignore-imports C:\\Users\\Kaixuan Khoo\\AppData\\Local\\Temp\\tmp3xhpmnua\n",
      "* Owlready2 * Pellet took 2.5911102294921875 seconds\n",
      "* Owlready * Reparenting BreastCancerTreatments.FEC: {BreastCancerTreatments.AntiMetaboliteRegimen, BreastCancerTreatments.Regimen} => {BreastCancerTreatments.AntiMetaboliteRegimen}\n",
      "* Owlready * (NB: only changes on entities loaded in Python are shown, other changes are done but not listed)\n"
     ]
    }
   ],
   "source": [
    "sync_reasoner_pellet()"
   ]
  },
  {
   "cell_type": "code",
   "execution_count": 10,
   "metadata": {},
   "outputs": [
    {
     "ename": "AttributeError",
     "evalue": "'DateOfBirth' property is not defined.",
     "output_type": "error",
     "traceback": [
      "\u001b[1;31m---------------------------------------------------------------------------\u001b[0m",
      "\u001b[1;31mAttributeError\u001b[0m                            Traceback (most recent call last)",
      "\u001b[1;32mc:\\Users\\Kaixuan Khoo\\Desktop\\Computer Science\\Individual Project\\MScProject\\TestOwlPython.ipynb Cell 10'\u001b[0m in \u001b[0;36m<module>\u001b[1;34m\u001b[0m\n\u001b[0;32m      <a href='vscode-notebook-cell:/c%3A/Users/Kaixuan%20Khoo/Desktop/Computer%20Science/Individual%20Project/MScProject/TestOwlPython.ipynb#ch0000009?line=0'>1</a>\u001b[0m \u001b[39mfor\u001b[39;00m i \u001b[39min\u001b[39;00m onto\u001b[39m.\u001b[39mPatient\u001b[39m.\u001b[39minstances():\n\u001b[1;32m----> <a href='vscode-notebook-cell:/c%3A/Users/Kaixuan%20Khoo/Desktop/Computer%20Science/Individual%20Project/MScProject/TestOwlPython.ipynb#ch0000009?line=1'>2</a>\u001b[0m     \u001b[39mprint\u001b[39m(i\u001b[39m.\u001b[39mPatientID, i\u001b[39m.\u001b[39;49mDateOfBirth)\n",
      "File \u001b[1;32mc:\\Users\\Kaixuan Khoo\\AppData\\Local\\Programs\\Python\\Python38\\lib\\site-packages\\owlready2\\individual.py:245\u001b[0m, in \u001b[0;36mThing.__getattr__\u001b[1;34m(self, attr)\u001b[0m\n\u001b[0;32m    243\u001b[0m \u001b[39mif\u001b[39;00m \u001b[39mnot\u001b[39;00m Prop:\n\u001b[0;32m    244\u001b[0m   \u001b[39mif\u001b[39;00m attr \u001b[39m==\u001b[39m \u001b[39m\"\u001b[39m\u001b[39mequivalent_to\u001b[39m\u001b[39m\"\u001b[39m: \u001b[39mreturn\u001b[39;00m \u001b[39mself\u001b[39m\u001b[39m.\u001b[39mget_equivalent_to() \u001b[39m# Needed\u001b[39;00m\n\u001b[1;32m--> 245\u001b[0m   \u001b[39mraise\u001b[39;00m \u001b[39mAttributeError\u001b[39;00m(\u001b[39m\"\u001b[39m\u001b[39m'\u001b[39m\u001b[39m%s\u001b[39;00m\u001b[39m'\u001b[39m\u001b[39m property is not defined.\u001b[39m\u001b[39m\"\u001b[39m \u001b[39m%\u001b[39m attr)\n\u001b[0;32m    246\u001b[0m \u001b[39mif\u001b[39;00m Prop\u001b[39m.\u001b[39mis_functional_for(\u001b[39mself\u001b[39m\u001b[39m.\u001b[39m\u001b[39m__class__\u001b[39m): \u001b[39mself\u001b[39m\u001b[39m.\u001b[39m\u001b[39m__dict__\u001b[39m[attr] \u001b[39m=\u001b[39m r \u001b[39m=\u001b[39m Prop\u001b[39m.\u001b[39m_get_value_for_individual (\u001b[39mself\u001b[39m)\n\u001b[0;32m    247\u001b[0m \u001b[39melse\u001b[39;00m:                                      \u001b[39mself\u001b[39m\u001b[39m.\u001b[39m\u001b[39m__dict__\u001b[39m[attr] \u001b[39m=\u001b[39m r \u001b[39m=\u001b[39m Prop\u001b[39m.\u001b[39m_get_values_for_individual(\u001b[39mself\u001b[39m)\n",
      "\u001b[1;31mAttributeError\u001b[0m: 'DateOfBirth' property is not defined."
     ]
    }
   ],
   "source": [
    "for i in onto.Patient.instances():\n",
    "    print(i.PatientID, i.DateOfBirth)"
   ]
  },
  {
   "cell_type": "code",
   "execution_count": 11,
   "metadata": {},
   "outputs": [
    {
     "name": "stdout",
     "output_type": "stream",
     "text": [
      "[BreastCancerTreatments.Regimen1]\n",
      "[BreastCancerTreatments.Regimen1]\n",
      "[BreastCancerTreatments.Regimen1]\n",
      "[BreastCancerTreatments.regimen1]\n",
      "[BreastCancerTreatments.regimen2]\n",
      "[BreastCancerTreatments.regimen3]\n",
      "[BreastCancerTreatments.regimen4]\n",
      "[BreastCancerTreatments.regimen5]\n",
      "[BreastCancerTreatments.regimen7]\n",
      "[BreastCancerTreatments.regimen8]\n",
      "[BreastCancerTreatments.regimen10]\n",
      "[BreastCancerTreatments.regimen16]\n",
      "[BreastCancerTreatments.regimen18]\n",
      "[BreastCancerTreatments.Regimen1]\n",
      "[BreastCancerTreatments.Regimen1]\n",
      "[BreastCancerTreatments.Regimen1]\n"
     ]
    }
   ],
   "source": [
    "for i in onto.Drug.instances():\n",
    "    print(i.part_of_regimen)"
   ]
  },
  {
   "cell_type": "code",
   "execution_count": null,
   "metadata": {},
   "outputs": [],
   "source": []
  }
 ],
 "metadata": {
  "interpreter": {
   "hash": "ff51508655712acb10c1209fd6267f6a91713f2d0464b4dc4d47b53cd2e84d52"
  },
  "kernelspec": {
   "display_name": "Python 3.8.0 64-bit",
   "language": "python",
   "name": "python3"
  },
  "language_info": {
   "codemirror_mode": {
    "name": "ipython",
    "version": 3
   },
   "file_extension": ".py",
   "mimetype": "text/x-python",
   "name": "python",
   "nbconvert_exporter": "python",
   "pygments_lexer": "ipython3",
   "version": "3.8.0"
  },
  "orig_nbformat": 4
 },
 "nbformat": 4,
 "nbformat_minor": 2
}
