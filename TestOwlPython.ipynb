{
 "cells": [
  {
   "cell_type": "code",
   "execution_count": 1,
   "metadata": {},
   "outputs": [],
   "source": [
    "from owlready2 import *"
   ]
  },
  {
   "cell_type": "code",
   "execution_count": 2,
   "metadata": {},
   "outputs": [],
   "source": [
    "onto = get_ontology(\"BreastCancerTreatments.owl\").load()"
   ]
  },
  {
   "cell_type": "code",
   "execution_count": 3,
   "metadata": {},
   "outputs": [
    {
     "name": "stdout",
     "output_type": "stream",
     "text": [
      "get_ontology(\"http://www.semanticweb.org/kaixuankhoo/ontologies/2022/6/BreastCancerOntology#\")\n"
     ]
    }
   ],
   "source": [
    "print(onto)"
   ]
  },
  {
   "cell_type": "code",
   "execution_count": 4,
   "metadata": {},
   "outputs": [
    {
     "name": "stderr",
     "output_type": "stream",
     "text": [
      "* Owlready2 * Running Pellet...\n",
      "    java -Xmx2000M -cp c:\\Users\\Kaixuan Khoo\\AppData\\Local\\Programs\\Python\\Python38\\lib\\site-packages\\owlready2\\pellet\\antlr-3.2.jar;c:\\Users\\Kaixuan Khoo\\AppData\\Local\\Programs\\Python\\Python38\\lib\\site-packages\\owlready2\\pellet\\antlr-runtime-3.2.jar;c:\\Users\\Kaixuan Khoo\\AppData\\Local\\Programs\\Python\\Python38\\lib\\site-packages\\owlready2\\pellet\\aterm-java-1.6.jar;c:\\Users\\Kaixuan Khoo\\AppData\\Local\\Programs\\Python\\Python38\\lib\\site-packages\\owlready2\\pellet\\commons-codec-1.6.jar;c:\\Users\\Kaixuan Khoo\\AppData\\Local\\Programs\\Python\\Python38\\lib\\site-packages\\owlready2\\pellet\\httpclient-4.2.3.jar;c:\\Users\\Kaixuan Khoo\\AppData\\Local\\Programs\\Python\\Python38\\lib\\site-packages\\owlready2\\pellet\\httpcore-4.2.2.jar;c:\\Users\\Kaixuan Khoo\\AppData\\Local\\Programs\\Python\\Python38\\lib\\site-packages\\owlready2\\pellet\\jcl-over-slf4j-1.6.4.jar;c:\\Users\\Kaixuan Khoo\\AppData\\Local\\Programs\\Python\\Python38\\lib\\site-packages\\owlready2\\pellet\\jena-arq-2.10.0.jar;c:\\Users\\Kaixuan Khoo\\AppData\\Local\\Programs\\Python\\Python38\\lib\\site-packages\\owlready2\\pellet\\jena-core-2.10.0.jar;c:\\Users\\Kaixuan Khoo\\AppData\\Local\\Programs\\Python\\Python38\\lib\\site-packages\\owlready2\\pellet\\jena-iri-0.9.5.jar;c:\\Users\\Kaixuan Khoo\\AppData\\Local\\Programs\\Python\\Python38\\lib\\site-packages\\owlready2\\pellet\\jena-tdb-0.10.0.jar;c:\\Users\\Kaixuan Khoo\\AppData\\Local\\Programs\\Python\\Python38\\lib\\site-packages\\owlready2\\pellet\\jgrapht-jdk1.5.jar;c:\\Users\\Kaixuan Khoo\\AppData\\Local\\Programs\\Python\\Python38\\lib\\site-packages\\owlready2\\pellet\\log4j-1.2.16.jar;c:\\Users\\Kaixuan Khoo\\AppData\\Local\\Programs\\Python\\Python38\\lib\\site-packages\\owlready2\\pellet\\owlapi-distribution-3.4.3-bin.jar;c:\\Users\\Kaixuan Khoo\\AppData\\Local\\Programs\\Python\\Python38\\lib\\site-packages\\owlready2\\pellet\\pellet-2.3.1.jar;c:\\Users\\Kaixuan Khoo\\AppData\\Local\\Programs\\Python\\Python38\\lib\\site-packages\\owlready2\\pellet\\slf4j-api-1.6.4.jar;c:\\Users\\Kaixuan Khoo\\AppData\\Local\\Programs\\Python\\Python38\\lib\\site-packages\\owlready2\\pellet\\slf4j-log4j12-1.6.4.jar;c:\\Users\\Kaixuan Khoo\\AppData\\Local\\Programs\\Python\\Python38\\lib\\site-packages\\owlready2\\pellet\\xercesImpl-2.10.0.jar;c:\\Users\\Kaixuan Khoo\\AppData\\Local\\Programs\\Python\\Python38\\lib\\site-packages\\owlready2\\pellet\\xml-apis-1.4.01.jar pellet.Pellet realize --loader Jena --input-format N-Triples --ignore-imports C:\\Users\\Kaixuan Khoo\\AppData\\Local\\Temp\\tmpkbl9lb5h\n",
      "* Owlready2 * Pellet took 3.1837942600250244 seconds\n",
      "* Owlready * (NB: only changes on entities loaded in Python are shown, other changes are done but not listed)\n"
     ]
    }
   ],
   "source": [
    "sync_reasoner_pellet()"
   ]
  },
  {
   "cell_type": "code",
   "execution_count": 5,
   "metadata": {},
   "outputs": [
    {
     "name": "stdout",
     "output_type": "stream",
     "text": [
      "owl.Thing\n"
     ]
    }
   ],
   "source": [
    "print(Thing)"
   ]
  },
  {
   "cell_type": "code",
   "execution_count": 6,
   "metadata": {},
   "outputs": [
    {
     "name": "stdout",
     "output_type": "stream",
     "text": [
      "[10262332]\n"
     ]
    }
   ],
   "source": [
    "# print(onto)\n",
    "print(onto.Patient1.PatientID)"
   ]
  },
  {
   "cell_type": "markdown",
   "metadata": {},
   "source": [
    "## Playing around with Querying"
   ]
  },
  {
   "cell_type": "code",
   "execution_count": 7,
   "metadata": {},
   "outputs": [
    {
     "data": {
      "text/plain": [
       "[BreastCancerTreatments.CyclophosphamideREF, BreastCancerTreatments.CapecitabineREF, BreastCancerTreatments.CarboplatinREF, BreastCancerTreatments.DocetaxelREF, BreastCancerTreatments.EpirubicinREF, BreastCancerTreatments.Fluorouracil5REF, BreastCancerTreatments.InfusionREF, BreastCancerTreatments.IntramuscularREF, BreastCancerTreatments.IntravenousREF, BreastCancerTreatments.PaclitaxelREF, BreastCancerTreatments.PertuzumabREF, BreastCancerTreatments.SubcutaneousREF, BreastCancerTreatments.TrastuzumabREF]"
      ]
     },
     "execution_count": 7,
     "metadata": {},
     "output_type": "execute_result"
    }
   ],
   "source": [
    "## searching using IRI name\n",
    "onto.search(iri = \"*REF\")"
   ]
  },
  {
   "cell_type": "code",
   "execution_count": 8,
   "metadata": {},
   "outputs": [
    {
     "data": {
      "text/plain": [
       "[BreastCancerTreatments.Patient1]"
      ]
     },
     "execution_count": 8,
     "metadata": {},
     "output_type": "execute_result"
    }
   ],
   "source": [
    "## searching relationships using object properties\n",
    "onto.search(has_tumour = \"*\")"
   ]
  },
  {
   "cell_type": "code",
   "execution_count": 9,
   "metadata": {},
   "outputs": [
    {
     "data": {
      "text/plain": [
       "[BreastCancerTreatments.Drug_reference, BreastCancerTreatments.AlkylatingAgent, BreastCancerTreatments.Anthracycline, BreastCancerTreatments.AntiMetabolite, BreastCancerTreatments.Taxane, BreastCancerTreatments.HER2Targeted, BreastCancerTreatments.PlatinumBased, BreastCancerTreatments.NitrogenMustardBased, BreastCancerTreatments.Epirubicin, BreastCancerTreatments.Capecitabine, BreastCancerTreatments.FU, BreastCancerTreatments.Docetaxel, BreastCancerTreatments.Paclitaxel, BreastCancerTreatments.Pertuzumab, BreastCancerTreatments.Trastuzumab, BreastCancerTreatments.Carboplatin, BreastCancerTreatments.Cyclophosphamide]"
      ]
     },
     "execution_count": 9,
     "metadata": {},
     "output_type": "execute_result"
    }
   ],
   "source": [
    "## searching subclass of something\n",
    "onto.search(subclass_of = onto.Drug_reference)"
   ]
  },
  {
   "cell_type": "markdown",
   "metadata": {},
   "source": [
    "## Tests for creating individuals \n",
    "These individuals will then go into the ABox for reasoning"
   ]
  },
  {
   "cell_type": "code",
   "execution_count": 17,
   "metadata": {},
   "outputs": [],
   "source": [
    "my_drug = onto.Drug(\"my_drug\", Dose = [100], has_drug_reference = [onto.CyclophosphamideREF])\n",
    "my_drug.Dose = [200] ## reassigning datapoint\n",
    "my_drug.has_drug_reference = [onto.Fluorouracil5REF] ## reassigning relationship property"
   ]
  },
  {
   "cell_type": "code",
   "execution_count": 18,
   "metadata": {},
   "outputs": [
    {
     "name": "stdout",
     "output_type": "stream",
     "text": [
      "[BreastCancerTreatments.Fluorouracil5REF]\n"
     ]
    }
   ],
   "source": [
    "print(my_drug.has_drug_reference)"
   ]
  },
  {
   "cell_type": "code",
   "execution_count": 19,
   "metadata": {},
   "outputs": [
    {
     "name": "stdout",
     "output_type": "stream",
     "text": [
      ".has_drug_reference == BreastCancerTreatments.Fluorouracil5REF\n",
      ".Dose == 200\n"
     ]
    }
   ],
   "source": [
    "## For printing the properties of a drug\n",
    "for property in my_drug.get_properties():\n",
    "    for value in property[my_drug]:\n",
    "        print(\".%s == %s\" % (property.python_name, value))"
   ]
  },
  {
   "cell_type": "code",
   "execution_count": 13,
   "metadata": {},
   "outputs": [
    {
     "name": "stdout",
     "output_type": "stream",
     "text": [
      "BreastCancerTreatments.CapecitabineREF\n",
      "BreastCancerTreatments.CarboplatinREF\n",
      "BreastCancerTreatments.CyclophosphamideREF\n",
      "BreastCancerTreatments.DocetaxelREF\n",
      "BreastCancerTreatments.EpirubicinREF\n",
      "BreastCancerTreatments.Fluorouracil5REF\n",
      "BreastCancerTreatments.PaclitaxelREF\n",
      "BreastCancerTreatments.PertuzumabREF\n",
      "BreastCancerTreatments.TrastuzumabREF\n"
     ]
    }
   ],
   "source": [
    "for i in onto.Drug_reference.instances():\n",
    "    print(i)"
   ]
  },
  {
   "cell_type": "code",
   "execution_count": 14,
   "metadata": {},
   "outputs": [
    {
     "name": "stdout",
     "output_type": "stream",
     "text": [
      "[BreastCancerTreatments.Regimen]\n",
      "[BreastCancerTreatments.Tumour]\n"
     ]
    }
   ],
   "source": [
    "## Printing domain and range\n",
    "print(onto.treats.domain)\n",
    "print(onto.treats.range)"
   ]
  },
  {
   "cell_type": "code",
   "execution_count": null,
   "metadata": {},
   "outputs": [],
   "source": []
  }
 ],
 "metadata": {
  "interpreter": {
   "hash": "ff51508655712acb10c1209fd6267f6a91713f2d0464b4dc4d47b53cd2e84d52"
  },
  "kernelspec": {
   "display_name": "Python 3.8.0 64-bit",
   "language": "python",
   "name": "python3"
  },
  "language_info": {
   "codemirror_mode": {
    "name": "ipython",
    "version": 3
   },
   "file_extension": ".py",
   "mimetype": "text/x-python",
   "name": "python",
   "nbconvert_exporter": "python",
   "pygments_lexer": "ipython3",
   "version": "3.8.0"
  },
  "orig_nbformat": 4
 },
 "nbformat": 4,
 "nbformat_minor": 2
}
