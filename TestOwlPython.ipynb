{
 "cells": [
  {
   "cell_type": "code",
   "execution_count": 1,
   "metadata": {},
   "outputs": [],
   "source": [
    "from owlready2 import *\n",
    "import pandas as pd\n",
    "import datetime"
   ]
  },
  {
   "cell_type": "code",
   "execution_count": 2,
   "metadata": {},
   "outputs": [],
   "source": [
    "onto = get_ontology(\"BreastCancerTreatments.owl\").load()"
   ]
  },
  {
   "cell_type": "code",
   "execution_count": 3,
   "metadata": {},
   "outputs": [
    {
     "name": "stdout",
     "output_type": "stream",
     "text": [
      "get_ontology(\"http://www.semanticweb.org/kaixuankhoo/ontologies/2022/6/BreastCancerOntology#\")\n"
     ]
    }
   ],
   "source": [
    "print(onto)"
   ]
  },
  {
   "cell_type": "code",
   "execution_count": 4,
   "metadata": {},
   "outputs": [
    {
     "name": "stderr",
     "output_type": "stream",
     "text": [
      "* Owlready2 * Running Pellet...\n",
      "    java -Xmx2000M -cp c:\\Users\\Kaixuan Khoo\\AppData\\Local\\Programs\\Python\\Python38\\lib\\site-packages\\owlready2\\pellet\\antlr-3.2.jar;c:\\Users\\Kaixuan Khoo\\AppData\\Local\\Programs\\Python\\Python38\\lib\\site-packages\\owlready2\\pellet\\antlr-runtime-3.2.jar;c:\\Users\\Kaixuan Khoo\\AppData\\Local\\Programs\\Python\\Python38\\lib\\site-packages\\owlready2\\pellet\\aterm-java-1.6.jar;c:\\Users\\Kaixuan Khoo\\AppData\\Local\\Programs\\Python\\Python38\\lib\\site-packages\\owlready2\\pellet\\commons-codec-1.6.jar;c:\\Users\\Kaixuan Khoo\\AppData\\Local\\Programs\\Python\\Python38\\lib\\site-packages\\owlready2\\pellet\\httpclient-4.2.3.jar;c:\\Users\\Kaixuan Khoo\\AppData\\Local\\Programs\\Python\\Python38\\lib\\site-packages\\owlready2\\pellet\\httpcore-4.2.2.jar;c:\\Users\\Kaixuan Khoo\\AppData\\Local\\Programs\\Python\\Python38\\lib\\site-packages\\owlready2\\pellet\\jcl-over-slf4j-1.6.4.jar;c:\\Users\\Kaixuan Khoo\\AppData\\Local\\Programs\\Python\\Python38\\lib\\site-packages\\owlready2\\pellet\\jena-arq-2.10.0.jar;c:\\Users\\Kaixuan Khoo\\AppData\\Local\\Programs\\Python\\Python38\\lib\\site-packages\\owlready2\\pellet\\jena-core-2.10.0.jar;c:\\Users\\Kaixuan Khoo\\AppData\\Local\\Programs\\Python\\Python38\\lib\\site-packages\\owlready2\\pellet\\jena-iri-0.9.5.jar;c:\\Users\\Kaixuan Khoo\\AppData\\Local\\Programs\\Python\\Python38\\lib\\site-packages\\owlready2\\pellet\\jena-tdb-0.10.0.jar;c:\\Users\\Kaixuan Khoo\\AppData\\Local\\Programs\\Python\\Python38\\lib\\site-packages\\owlready2\\pellet\\jgrapht-jdk1.5.jar;c:\\Users\\Kaixuan Khoo\\AppData\\Local\\Programs\\Python\\Python38\\lib\\site-packages\\owlready2\\pellet\\log4j-1.2.16.jar;c:\\Users\\Kaixuan Khoo\\AppData\\Local\\Programs\\Python\\Python38\\lib\\site-packages\\owlready2\\pellet\\owlapi-distribution-3.4.3-bin.jar;c:\\Users\\Kaixuan Khoo\\AppData\\Local\\Programs\\Python\\Python38\\lib\\site-packages\\owlready2\\pellet\\pellet-2.3.1.jar;c:\\Users\\Kaixuan Khoo\\AppData\\Local\\Programs\\Python\\Python38\\lib\\site-packages\\owlready2\\pellet\\slf4j-api-1.6.4.jar;c:\\Users\\Kaixuan Khoo\\AppData\\Local\\Programs\\Python\\Python38\\lib\\site-packages\\owlready2\\pellet\\slf4j-log4j12-1.6.4.jar;c:\\Users\\Kaixuan Khoo\\AppData\\Local\\Programs\\Python\\Python38\\lib\\site-packages\\owlready2\\pellet\\xercesImpl-2.10.0.jar;c:\\Users\\Kaixuan Khoo\\AppData\\Local\\Programs\\Python\\Python38\\lib\\site-packages\\owlready2\\pellet\\xml-apis-1.4.01.jar pellet.Pellet realize --loader Jena --input-format N-Triples --ignore-imports C:\\Users\\Kaixuan Khoo\\AppData\\Local\\Temp\\tmptx8lgdzb\n",
      "* Owlready2 * Pellet took 3.284627676010132 seconds\n",
      "* Owlready * (NB: only changes on entities loaded in Python are shown, other changes are done but not listed)\n"
     ]
    }
   ],
   "source": [
    "sync_reasoner_pellet()"
   ]
  },
  {
   "cell_type": "code",
   "execution_count": 5,
   "metadata": {},
   "outputs": [
    {
     "name": "stdout",
     "output_type": "stream",
     "text": [
      "owl.Thing\n"
     ]
    }
   ],
   "source": [
    "print(Thing)"
   ]
  },
  {
   "cell_type": "code",
   "execution_count": 6,
   "metadata": {},
   "outputs": [
    {
     "name": "stdout",
     "output_type": "stream",
     "text": [
      "[10262332]\n"
     ]
    }
   ],
   "source": [
    "# print(onto)\n",
    "print(onto.Patient1.PatientID)"
   ]
  },
  {
   "cell_type": "markdown",
   "metadata": {},
   "source": [
    "## Playing around with Querying"
   ]
  },
  {
   "cell_type": "code",
   "execution_count": 7,
   "metadata": {},
   "outputs": [
    {
     "data": {
      "text/plain": [
       "[BreastCancerTreatments.CyclophosphamideREF, BreastCancerTreatments.CapecitabineREF, BreastCancerTreatments.CarboplatinREF, BreastCancerTreatments.DocetaxelREF, BreastCancerTreatments.EpirubicinREF, BreastCancerTreatments.Fluorouracil5REF, BreastCancerTreatments.InfusionREF, BreastCancerTreatments.IntramuscularREF, BreastCancerTreatments.IntravenousREF, BreastCancerTreatments.PaclitaxelREF, BreastCancerTreatments.PertuzumabREF, BreastCancerTreatments.SubcutaneousREF, BreastCancerTreatments.TrastuzumabREF]"
      ]
     },
     "execution_count": 7,
     "metadata": {},
     "output_type": "execute_result"
    }
   ],
   "source": [
    "## searching using IRI name\n",
    "onto.search(iri = \"*REF\")"
   ]
  },
  {
   "cell_type": "code",
   "execution_count": 8,
   "metadata": {},
   "outputs": [
    {
     "data": {
      "text/plain": [
       "[BreastCancerTreatments.Patient1]"
      ]
     },
     "execution_count": 8,
     "metadata": {},
     "output_type": "execute_result"
    }
   ],
   "source": [
    "## searching relationships using object properties\n",
    "onto.search(has_tumour = \"*\")"
   ]
  },
  {
   "cell_type": "code",
   "execution_count": 9,
   "metadata": {},
   "outputs": [
    {
     "data": {
      "text/plain": [
       "[BreastCancerTreatments.Drug_reference, BreastCancerTreatments.AlkylatingAgent, BreastCancerTreatments.Anthracycline, BreastCancerTreatments.AntiMetabolite, BreastCancerTreatments.Taxane, BreastCancerTreatments.HER2Targeted, BreastCancerTreatments.PlatinumBased, BreastCancerTreatments.NitrogenMustardBased, BreastCancerTreatments.Epirubicin, BreastCancerTreatments.Capecitabine, BreastCancerTreatments.FU, BreastCancerTreatments.Docetaxel, BreastCancerTreatments.Paclitaxel, BreastCancerTreatments.Pertuzumab, BreastCancerTreatments.Trastuzumab, BreastCancerTreatments.Carboplatin, BreastCancerTreatments.Cyclophosphamide]"
      ]
     },
     "execution_count": 9,
     "metadata": {},
     "output_type": "execute_result"
    }
   ],
   "source": [
    "## searching subclass of something\n",
    "onto.search(subclass_of = onto.Drug_reference)"
   ]
  },
  {
   "cell_type": "markdown",
   "metadata": {},
   "source": [
    "## Tests for creating individuals \n",
    "These individuals will then go into the ABox for reasoning"
   ]
  },
  {
   "cell_type": "code",
   "execution_count": 11,
   "metadata": {},
   "outputs": [],
   "source": [
    "my_drug = onto.Drug(\"my_drug\", Dose = [100], has_drug_reference = [onto.CyclophosphamideREF])\n",
    "my_drug.Dose = [200] ## reassigning datapoint\n",
    "my_drug.has_drug_reference = [onto.Fluorouracil5REF] ## reassigning relationship property"
   ]
  },
  {
   "cell_type": "code",
   "execution_count": 12,
   "metadata": {},
   "outputs": [
    {
     "name": "stdout",
     "output_type": "stream",
     "text": [
      "[BreastCancerTreatments.Fluorouracil5REF]\n"
     ]
    }
   ],
   "source": [
    "print(my_drug.has_drug_reference)"
   ]
  },
  {
   "cell_type": "code",
   "execution_count": 13,
   "metadata": {},
   "outputs": [
    {
     "name": "stdout",
     "output_type": "stream",
     "text": [
      ".Dose == 200\n",
      ".has_drug_reference == BreastCancerTreatments.Fluorouracil5REF\n"
     ]
    }
   ],
   "source": [
    "## For printing the properties of a drug\n",
    "for property in my_drug.get_properties():\n",
    "    for value in property[my_drug]:\n",
    "        print(\".%s == %s\" % (property.python_name, value))"
   ]
  },
  {
   "cell_type": "code",
   "execution_count": 14,
   "metadata": {},
   "outputs": [
    {
     "name": "stdout",
     "output_type": "stream",
     "text": [
      "BreastCancerTreatments.CapecitabineREF\n",
      "BreastCancerTreatments.CarboplatinREF\n",
      "BreastCancerTreatments.CyclophosphamideREF\n",
      "BreastCancerTreatments.DocetaxelREF\n",
      "BreastCancerTreatments.EpirubicinREF\n",
      "BreastCancerTreatments.Fluorouracil5REF\n",
      "BreastCancerTreatments.PaclitaxelREF\n",
      "BreastCancerTreatments.PertuzumabREF\n",
      "BreastCancerTreatments.TrastuzumabREF\n"
     ]
    }
   ],
   "source": [
    "for i in onto.Drug_reference.instances():\n",
    "    print(i)"
   ]
  },
  {
   "cell_type": "code",
   "execution_count": 15,
   "metadata": {},
   "outputs": [
    {
     "name": "stdout",
     "output_type": "stream",
     "text": [
      "[BreastCancerTreatments.Regimen]\n",
      "[BreastCancerTreatments.Tumour]\n"
     ]
    }
   ],
   "source": [
    "## Printing domain and range\n",
    "print(onto.treats.domain)\n",
    "print(onto.treats.range)"
   ]
  },
  {
   "cell_type": "markdown",
   "metadata": {},
   "source": [
    "## Trying to import data and mapping into the ontology\n",
    "Using a dummy dataset imported into pandas"
   ]
  },
  {
   "cell_type": "code",
   "execution_count": 5,
   "metadata": {},
   "outputs": [
    {
     "name": "stderr",
     "output_type": "stream",
     "text": [
      "C:\\Users\\Kaixuan Khoo\\AppData\\Local\\Temp\\ipykernel_17732\\956826549.py:1: DtypeWarning: Columns (7,18) have mixed types. Specify dtype option on import or set low_memory=False.\n",
      "  df = pd.read_csv('data/m2dummyB_full.csv')\n"
     ]
    }
   ],
   "source": [
    "df = pd.read_csv('data/m2dummyB_full.csv')\n",
    "df = df.astype({'MAPPED_REGIMEN': str})"
   ]
  },
  {
   "cell_type": "code",
   "execution_count": 6,
   "metadata": {},
   "outputs": [],
   "source": [
    "#TODO: write this function\n",
    "def create_drug_instances(string, regimen):\n",
    "    if \"capecitabine\" in string.lower():\n",
    "        Instances.drugs.append(onto.Drug(Drug_reference=[onto.CapecitabineREF], part_of_regimen=[regimen]))\n",
    "    if \"carboplatin\" in string.lower():\n",
    "        Instances.drugs.append(onto.Drug(Drug_reference=[onto.CarboplatinREF], part_of_regimen=[regimen]))\n",
    "    if \"cyclophosphamide\" in string.lower():\n",
    "        Instances.drugs.append(onto.Drug(Drug_reference=[onto.CyclophosphamideREF], part_of_regimen=[regimen]))\n",
    "    if \"docetaxel\" in string.lower():\n",
    "        Instances.drugs.append(onto.Drug(Drug_reference=[onto.DocetaxelREF], part_of_regimen=[regimen]))\n",
    "    if \"epirubicin\" in string.lower():\n",
    "        Instances.drugs.append(onto.Drug(Drug_reference=[onto.EpirubicinREF], part_of_regimen=[regimen]))\n",
    "    if \"fluorouracil\" in string.lower():\n",
    "        Instances.drugs.append(onto.Drug(Drug_reference=[onto.Fluorouracil5REF], part_of_regimen=[regimen]))\n",
    "    if \"paclitaxel\" in string.lower():\n",
    "        Instances.drugs.append(onto.Drug(Drug_reference=[onto.PaclitaxelREF], part_of_regimen=[regimen]))\n",
    "    if \"pertuzumab\" in string.lower():\n",
    "        Instances.drugs.append(onto.Drug(Drug_reference=[onto.PertuzumabREF], part_of_regimen=[regimen]))\n",
    "    if \"trastuzumab\" in string.lower():\n",
    "        Instances.drugs.append(onto.Drug(Drug_reference=[onto.TrastuzumabREF], part_of_regimen=[regimen]))"
   ]
  },
  {
   "cell_type": "code",
   "execution_count": 7,
   "metadata": {},
   "outputs": [],
   "source": [
    "def is_alive(vital):\n",
    "    if vital == 'A':\n",
    "        return True\n",
    "    return False"
   ]
  },
  {
   "cell_type": "code",
   "execution_count": 8,
   "metadata": {},
   "outputs": [],
   "source": [
    "# ## Trial creating a new individual\n",
    "# test_row = df.head(1)\n",
    "# # type(test_row['MERGED_TUMOUR_ID'][0].item())\n",
    "# datetime.date.today()\n",
    "# trial_patient = onto.Patient(\"trialP\", PatientID = [test_row['MERGED_PATIENT_ID_x'][0].item()], DateOfBirth = [datetime.date(2022-test_row['AGE'][0].item(),1,1)])\n",
    "# print(trial_patient.PatientID, trial_patient.DateOfBirth)\n",
    "# trial_tumour = onto.Tumour(\"trialT\", TumourID = [test_row['MERGED_TUMOUR_ID'][0].item()])\n",
    "# print(trial_tumour.TumourID)\n",
    "# trial_regimen = onto.Regimen(\"trialR\", RegimenID = [test_row['MERGED_REGIMEN_ID'][0].item()])\n",
    "# print(trial_regimen.RegimenID)"
   ]
  },
  {
   "cell_type": "code",
   "execution_count": 9,
   "metadata": {},
   "outputs": [
    {
     "data": {
      "text/plain": [
       "Index(['Unnamed: 0', 'TUMOURID', 'PATIENTID', 'DIAGNOSISDATEBEST',\n",
       "       'SITE_ICD10_O2', 'SITE_ICD10_O2_3CHAR', 'MORPH_ICD10_O2',\n",
       "       'BEHAVIOUR_ICD10_O2', 'T_BEST', 'N_BEST', 'M_BEST', 'STAGE_BEST',\n",
       "       'STAGE_BEST_SYSTEM', 'GRADE', 'AGE', 'SEX', 'CREG_CODE', 'LINKNUMBER',\n",
       "       'SCREENINGSTATUSFULL_CODE', 'ER_STATUS', 'ER_SCORE', 'PR_STATUS',\n",
       "       'PR_SCORE', 'HER2_STATUS', 'CANCERCAREPLANINTENT', 'PERFORMANCESTATUS',\n",
       "       'CNS', 'ACE27', 'GLEASON_PRIMARY', 'GLEASON_SECONDARY',\n",
       "       'GLEASON_TERTIARY', 'GLEASON_COMBINED', 'DATE_FIRST_SURGERY',\n",
       "       'LATERALITY', 'QUINTILE_2015', 'ETHNICITY', 'DEATHCAUSECODE_1A',\n",
       "       'DEATHCAUSECODE_1B', 'DEATHCAUSECODE_1C', 'DEATHCAUSECODE_2',\n",
       "       'DEATHCAUSECODE_UNDERLYING', 'DEATHLOCATIONCODE', 'NEWVITALSTATUS',\n",
       "       'VITALSTATUSDATE', 'MERGED_PATIENT_ID', 'LINK_NUMBER',\n",
       "       'MERGED_TUMOUR_ID', 'CONSULTANT_SPECIALITY_CODE', 'PRIMARY_DIAGNOSIS',\n",
       "       'MORPHOLOGY_CLEAN', 'MERGED_REGIMEN_ID', 'HEIGHT_AT_START_OF_REGIMEN',\n",
       "       'WEIGHT_AT_START_OF_REGIMEN', 'INTENT_OF_TREATMENT',\n",
       "       'DATE_DECISION_TO_TREAT', 'START_DATE_OF_REGIMEN', 'MAPPED_REGIMEN',\n",
       "       'CLINICAL_TRIAL', 'CHEMO_RADIATION', 'BENCHMARK_GROUP'],\n",
       "      dtype='object')"
      ]
     },
     "execution_count": 9,
     "metadata": {},
     "output_type": "execute_result"
    }
   ],
   "source": [
    "df.columns"
   ]
  },
  {
   "cell_type": "code",
   "execution_count": 10,
   "metadata": {},
   "outputs": [],
   "source": [
    "## trying to import them in a for loop; this may be a slow way to do it...\n",
    "#TODO: Add DOB, find a way to map text to the drug instance ... ???\n",
    "class Instances():\n",
    "    patients = []\n",
    "    tumours = []\n",
    "    drugs = []\n",
    "    regimens = []\n",
    "\n",
    "def create_instances(data):\n",
    "    for index, row in data.iterrows():\n",
    "        # print(row['MERGED_REGIMEN_ID'], row['MERGED_TUMOUR_ID'], row['MERGED_PATIENT_ID_x'], row['PRIMARY_DIAGNOSIS'], row['MAPPED_REGIMEN'])\n",
    "\n",
    "        # Create a new patient instance\n",
    "            ## TODO: We might want to check if patient already in ontology\n",
    "        today = datetime.date.today()\n",
    "        yearBorn = datetime.date(today.year-row['AGE'],1,1).year\n",
    "        vital = row['NEWVITALSTATUS']\n",
    "        thisPatient = onto.Patient(PatientID = [row['LINKNUMBER']], ## equivalent of NHS number \n",
    "                                   DateOfBirth = [yearBorn],\n",
    "                                   VitalStatus = [vital],\n",
    "                                   IsAlive = [is_alive(vital)], ## currently handles 'Z' as not alive\n",
    "                                   PrimaryDiagnosis = [row['PRIMARY_DIAGNOSIS']], ## patient primary tumour icd10\n",
    "                                   Sex = [row['SEX']]\n",
    "                                   )\n",
    "        Instances.patients.append(thisPatient)\n",
    "\n",
    "        # Create a new tumour instance\n",
    "        thisTumour = onto.Tumour(TumourID = [row['MERGED_TUMOUR_ID']],\n",
    "                                 DiagnosisDate = [row['DIAGNOSISDATEBEST']],\n",
    "                                 ICD10_Code = [row['SITE_ICD10_O2']], ## tumour icd10\n",
    "                                 belongs_to_patient = [thisPatient]\n",
    "                                 )\n",
    "        Instances.tumours.append(thisTumour)\n",
    "\n",
    "        # Create a new regimen instance\n",
    "        thisRegimen = onto.Regimen(RegimenID = [row['MERGED_REGIMEN_ID']], \n",
    "                                   treats = [thisTumour]\n",
    "                                   )\n",
    "        Instances.regimens.append(thisRegimen)\n",
    "\n",
    "        # Create new drug instances in a for loop using names, then all drugs part of this regimen\n",
    "        create_drug_instances(row['MAPPED_REGIMEN'], thisRegimen)\n",
    "\n",
    "        \n",
    "        # Connect them all\n",
    "\n",
    "create_instances(df)\n",
    "    "
   ]
  },
  {
   "cell_type": "code",
   "execution_count": 42,
   "metadata": {},
   "outputs": [],
   "source": [
    "## Deleting the instances\n",
    "def delete_all_instances():\n",
    "    for i in onto.Patient.instances():\n",
    "        destroy_entity(i)\n",
    "    for i in onto.Tumour.instances():\n",
    "        destroy_entity(i)\n",
    "    for i in onto.Regimen.instances():\n",
    "        destroy_entity(i)\n",
    "    for i in onto.Drug.instances():\n",
    "        destroy_entity(i)"
   ]
  },
  {
   "cell_type": "code",
   "execution_count": 43,
   "metadata": {},
   "outputs": [],
   "source": [
    "delete_all_instances()"
   ]
  },
  {
   "cell_type": "code",
   "execution_count": 8,
   "metadata": {},
   "outputs": [],
   "source": []
  },
  {
   "cell_type": "code",
   "execution_count": 11,
   "metadata": {},
   "outputs": [
    {
     "name": "stderr",
     "output_type": "stream",
     "text": [
      "* Owlready2 * Running HermiT...\n",
      "    java -Xmx2000M -cp c:\\Users\\Kaixuan Khoo\\AppData\\Local\\Programs\\Python\\Python38\\lib\\site-packages\\owlready2\\hermit;c:\\Users\\Kaixuan Khoo\\AppData\\Local\\Programs\\Python\\Python38\\lib\\site-packages\\owlready2\\hermit\\HermiT.jar org.semanticweb.HermiT.cli.CommandLine -c -O -D -I file:///C:/Users/Kaixuan Khoo/AppData/Local/Temp/tmptd6i5n6i\n",
      "* Owlready2 * HermiT took 0.11269879341125488 seconds\n",
      "* Owlready * (NB: only changes on entities loaded in Python are shown, other changes are done but not listed)\n"
     ]
    }
   ],
   "source": [
    "sync_reasoner()"
   ]
  },
  {
   "cell_type": "code",
   "execution_count": null,
   "metadata": {},
   "outputs": [],
   "source": []
  },
  {
   "cell_type": "code",
   "execution_count": null,
   "metadata": {},
   "outputs": [],
   "source": []
  },
  {
   "cell_type": "code",
   "execution_count": null,
   "metadata": {},
   "outputs": [],
   "source": []
  }
 ],
 "metadata": {
  "interpreter": {
   "hash": "ff51508655712acb10c1209fd6267f6a91713f2d0464b4dc4d47b53cd2e84d52"
  },
  "kernelspec": {
   "display_name": "Python 3.8.0 64-bit",
   "language": "python",
   "name": "python3"
  },
  "language_info": {
   "codemirror_mode": {
    "name": "ipython",
    "version": 3
   },
   "file_extension": ".py",
   "mimetype": "text/x-python",
   "name": "python",
   "nbconvert_exporter": "python",
   "pygments_lexer": "ipython3",
   "version": "3.8.0"
  },
  "orig_nbformat": 4
 },
 "nbformat": 4,
 "nbformat_minor": 2
}
