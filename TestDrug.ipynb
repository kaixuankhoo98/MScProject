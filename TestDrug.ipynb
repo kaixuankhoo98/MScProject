{
 "cells": [
  {
   "cell_type": "code",
   "execution_count": 1,
   "metadata": {},
   "outputs": [],
   "source": [
    "import pandas as pd"
   ]
  },
  {
   "cell_type": "code",
   "execution_count": 3,
   "metadata": {},
   "outputs": [],
   "source": [
    "df = pd.read_csv('data/simulacrum/data/sim_sact_drug_detail.csv')"
   ]
  },
  {
   "cell_type": "code",
   "execution_count": 5,
   "metadata": {},
   "outputs": [
    {
     "data": {
      "text/plain": [
       "NOT CHEMO                1596394\n",
       "STEROID                   570953\n",
       "CYCLOPHOSPHAMIDE          302258\n",
       "CAPECITABINE              298069\n",
       "CARBOPLATIN               290883\n",
       "FLUOROURACIL              286262\n",
       "TRASTUZUMAB               216460\n",
       "GEMCITABINE               203644\n",
       "EPIRUBICIN                201249\n",
       "CISPLATIN                 191651\n",
       "DOCETAXEL                 166636\n",
       "OXALIPLATIN               159843\n",
       "PACLITAXEL                154968\n",
       "RITUXIMAB                 124278\n",
       "DOXORUBICIN               110543\n",
       "ETOPOSIDE                 108853\n",
       "VINCRISTINE               100197\n",
       "BORTEZOMIB                 89108\n",
       "CYTARABINE                 77532\n",
       "PEMETREXED                 64427\n",
       "IRINOTECAN                 57545\n",
       "BEVACIZUMAB                46296\n",
       "VINORELBINE                46179\n",
       "TEMOZOLOMIDE               45794\n",
       "METHOTREXATE               44729\n",
       "CETUXIMAB                  35450\n",
       "VINBLASTINE                33317\n",
       "BLEOMYCIN                  31360\n",
       "DACARBAZINE                30969\n",
       "HYDROXYCARBAMIDE           30109\n",
       "BENDAMUSTINE               28645\n",
       "PEMBROLIZUMAB              28394\n",
       "PERTUZUMAB                 25705\n",
       "ENZALUTAMIDE               25594\n",
       "TRIAL                      22429\n",
       "IMATINIB                   21008\n",
       "MERCAPTOPURINE             18544\n",
       "MULTIPLE                   17914\n",
       "AZACITIDINE                17831\n",
       "LENALIDOMIDE               17195\n",
       "NOT MATCHED                16111\n",
       "MITOMYCIN                  15778\n",
       "FLUDARABINE                15551\n",
       "ABIRATERONE                15086\n",
       "BCG                        14970\n",
       "THALIDOMIDE                14629\n",
       "MELPHALAN                  14318\n",
       "LIPOSOMAL DOXORUBICIN      13987\n",
       "PAZOPANIB                  13219\n",
       "NIVOLUMAB                  13184\n",
       "Name: DRUG_GROUP, dtype: int64"
      ]
     },
     "execution_count": 5,
     "metadata": {},
     "output_type": "execute_result"
    }
   ],
   "source": [
    "df['DRUG_GROUP'].value_counts()[0:50]"
   ]
  },
  {
   "cell_type": "code",
   "execution_count": null,
   "metadata": {},
   "outputs": [],
   "source": [
    "'''\n",
    "# = not included in ontology\n",
    "- = to add to the mapping function\n",
    "  = done\n",
    "\n",
    "# NOT CHEMO                1596394\n",
    "# STEROID                   570953\n",
    "  CYCLOPHOSPHAMIDE          302258\n",
    "- CAPECITABINE              298069\n",
    "  CARBOPLATIN               290883\n",
    "  FLUOROURACIL              286262\n",
    "  TRASTUZUMAB               216460\n",
    "  GEMCITABINE               203644\n",
    "  EPIRUBICIN                201249\n",
    "- CISPLATIN                 191651\n",
    "  DOCETAXEL                 166636\n",
    "- OXALIPLATIN               159843\n",
    "  PACLITAXEL                154968\n",
    "- RITUXIMAB                 124278\n",
    "- DOXORUBICIN               110543\n",
    "# ETOPOSIDE                 108853\n",
    "- VINCRISTINE               100197\n",
    "# BORTEZOMIB                 89108\n",
    "- CYTARABINE                 77532\n",
    "# PEMETREXED                 64427\n",
    "# IRINOTECAN                 57545\n",
    "# BEVACIZUMAB                46296\n",
    "# VINORELBINE                46179\n",
    "- TEMOZOLOMIDE               45794\n",
    "# METHOTREXATE               44729\n",
    "# CETUXIMAB                  35450\n",
    "# VINBLASTINE                33317\n",
    "# BLEOMYCIN                  31360\n",
    "# DACARBAZINE                30969\n",
    "- HYDROXYCARBAMIDE           30109\n",
    "# BENDAMUSTINE               28645\n",
    "# PEMBROLIZUMAB              28394\n",
    "  PERTUZUMAB                 25705\n",
    "# ENZALUTAMIDE               25594\n",
    "# TRIAL                      22429\n",
    "# IMATINIB                   21008\n",
    "# MERCAPTOPURINE             18544\n",
    "# MULTIPLE                   17914\n",
    "# AZACITIDINE                17831\n",
    "# LENALIDOMIDE               17195\n",
    "# NOT MATCHED                16111\n",
    "# MITOMYCIN                  15778\n",
    "# FLUDARABINE                15551\n",
    "# ABIRATERONE                15086\n",
    "# BCG                        14970\n",
    "# THALIDOMIDE                14629\n",
    "# MELPHALAN                  14318\n",
    "# LIPOSOMAL DOXORUBICIN      13987\n",
    "# PAZOPANIB                  13219\n",
    "# NIVOLUMAB                  13184\n",
    "Name: DRUG_GROUP, dtype: int64\n",
    "'''"
   ]
  }
 ],
 "metadata": {
  "kernelspec": {
   "display_name": "Python 3.10.6 ('MScProject': venv)",
   "language": "python",
   "name": "python3"
  },
  "language_info": {
   "codemirror_mode": {
    "name": "ipython",
    "version": 3
   },
   "file_extension": ".py",
   "mimetype": "text/x-python",
   "name": "python",
   "nbconvert_exporter": "python",
   "pygments_lexer": "ipython3",
   "version": "3.10.6"
  },
  "orig_nbformat": 4,
  "vscode": {
   "interpreter": {
    "hash": "15d6947bfbb20166db23d28b64936823e4c672e97ca7d41faf41036427a3463a"
   }
  }
 },
 "nbformat": 4,
 "nbformat_minor": 2
}
